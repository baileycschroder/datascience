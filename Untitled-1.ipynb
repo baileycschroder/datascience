{
 "cells": [
  {
   "cell_type": "code",
   "execution_count": null,
   "id": "05990567",
   "metadata": {},
   "outputs": [
    {
     "name": "stdout",
     "output_type": "stream",
     "text": [
      "My computer has 8 CPUs\n"
     ]
    }
   ],
   "source": [
    "import os\n",
    "cpu_num = os.cpu_count()\n",
    "print(f\"My computer has {cpu_num} CPUs\")"
   ]
  },
  {
   "cell_type": "code",
   "execution_count": null,
   "id": "c03e3302",
   "metadata": {},
   "outputs": [],
   "source": [
    "git config --global user.name \"baileycschroder\"\n",
    "\n",
    "\n"
   ]
  }
 ],
 "metadata": {
  "kernelspec": {
   "display_name": "Python 3",
   "language": "python",
   "name": "python3"
  },
  "language_info": {
   "codemirror_mode": {
    "name": "ipython",
    "version": 3
   },
   "file_extension": ".py",
   "mimetype": "text/x-python",
   "name": "python",
   "nbconvert_exporter": "python",
   "pygments_lexer": "ipython3",
   "version": "3.13.3"
  }
 },
 "nbformat": 4,
 "nbformat_minor": 5
}
